{
 "cells": [
  {
   "cell_type": "markdown",
   "id": "a47023dd",
   "metadata": {},
   "source": [
    "# Creating Shape Points for BEDMAP3\n",
    "\n",
    "Author: Alice Fremand (@almand)\n",
    "\n",
    "Date: 26/04/2022\n",
    "\n",
    "## The BEDMAP3 project\n",
    "\n",
    "Bedmap3 is a collaborative community project with the aim to produce a new map and datasets of Antarctic ice thickness and bed topography for the international glaciology and geophysical community, using a variety of data (including ice-thickness, bathymetry, surface altitude and grounding lines).\n",
    "\n",
    "Additionally Bedmap3 will act as a repository and portal for standardized RES data for the glaciology and Geophysics community.\n",
    "\n",
    "For more information about the project: https://www.scar.org/science/bedmap3/home/\n",
    "\n",
    "## Creating shape Lines\n",
    "\n",
    "The goal of the tutorial is to show how the Shape Lines have been created as an intermediary file of the BEDMAP3 project. The goal of this code is to create the tracks showing where the ice thickness data have been acquired.\n",
    "\n",
    "### Virtual environment\n",
    "\n",
    "For the code to run, it is important to install the correct dependancies and libraries. In particular the following libraries are crucial for the code to be run: \n",
    "\n",
    "* geopandas\n",
    "* numpy\n",
    "* Scipy\n",
    "* math\n",
    "\n",
    "**Note**: It is recommended to install geopandas first as it will upload most of the needed libraries at the same time without interoperability issues.\n",
    "\n",
    "The list of dependancies uploaded in the current environment is given in the list below:"
   ]
  },
  {
   "cell_type": "code",
   "execution_count": 1,
   "id": "60b8c67f",
   "metadata": {},
   "outputs": [
    {
     "name": "stdout",
     "output_type": "stream",
     "text": [
      "Package                       Version\n",
      "----------------------------- -------------------\n",
      "alabaster                     0.7.12\n",
      "anyio                         3.3.4\n",
      "argon2-cffi                   21.1.0\n",
      "async-generator               1.10\n",
      "attrs                         21.2.0\n",
      "Babel                         2.9.1\n",
      "backcall                      0.2.0\n",
      "backports.functools-lru-cache 1.6.4\n",
      "beautifulsoup4                4.10.0\n",
      "bleach                        4.1.0\n",
      "brotlipy                      0.7.0\n",
      "certifi                       2021.10.8\n",
      "cffi                          1.15.0\n",
      "cftime                        1.5.1.1\n",
      "chardet                       4.0.0\n",
      "charset-normalizer            2.0.0\n",
      "click                         7.1.2\n",
      "click-completion              0.5.2\n",
      "click-log                     0.3.2\n",
      "click-plugins                 1.1.1\n",
      "cligj                         0.7.1\n",
      "cloudpickle                   1.6.0\n",
      "colorama                      0.4.4\n",
      "cryptography                  35.0.0\n",
      "cycler                        0.10.0\n",
      "dataclasses                   0.8\n",
      "decorator                     5.0.9\n",
      "defusedxml                    0.7.1\n",
      "docutils                      0.16\n",
      "entrypoints                   0.3\n",
      "Fiona                         1.8.18\n",
      "future                        0.18.2\n",
      "GDAL                          3.1.4\n",
      "geopandas                     0.9.0\n",
      "gitdb                         4.0.9\n",
      "GitPython                     3.1.24\n",
      "greenlet                      1.1.2\n",
      "idna                          3.1\n",
      "imagesize                     1.3.0\n",
      "importlib-metadata            4.8.2\n",
      "importlib-resources           3.3.1\n",
      "ipykernel                     5.5.5\n",
      "ipython                       7.23.1\n",
      "ipython-genutils              0.2.0\n",
      "ipywidgets                    7.6.5\n",
      "jedi                          0.18.0\n",
      "Jinja2                        3.0.3\n",
      "jsonschema                    3.2.0\n",
      "jupyter                       1.0.0\n",
      "jupyter-book                  0.12.0\n",
      "jupyter-cache                 0.4.3\n",
      "jupyter-client                6.1.12\n",
      "jupyter-console               6.4.0\n",
      "jupyter-core                  4.7.1\n",
      "jupyter-server                1.11.2\n",
      "jupyter-server-mathjax        0.2.3\n",
      "jupyter-sphinx                0.3.2\n",
      "jupyterlab-pygments           0.1.2\n",
      "jupyterlab-widgets            1.0.2\n",
      "jupytext                      1.11.5\n",
      "kiwisolver                    1.3.2\n",
      "latexcodec                    2.0.1\n",
      "linkify-it-py                 1.0.2\n",
      "lxml                          4.6.4\n",
      "markdown-it-py                1.1.0\n",
      "MarkupSafe                    2.0.1\n",
      "matplotlib                    3.4.3\n",
      "matplotlib-inline             0.1.2\n",
      "mdit-py-plugins               0.2.8\n",
      "mistune                       0.8.4\n",
      "munch                         2.5.0\n",
      "myst-nb                       0.13.1\n",
      "myst-parser                   0.15.2\n",
      "nbclient                      0.5.5\n",
      "nbconvert                     6.2.0\n",
      "nbdime                        3.1.1\n",
      "nbformat                      5.1.3\n",
      "nest-asyncio                  1.5.1\n",
      "netCDF4                       1.5.7\n",
      "notebook                      6.4.5\n",
      "numpy                         1.20.3\n",
      "obspy                         1.2.2\n",
      "olefile                       0.46\n",
      "packaging                     21.2\n",
      "pandas                        1.2.4\n",
      "pandocfilters                 1.5.0\n",
      "parso                         0.8.2\n",
      "pickleshare                   0.7.5\n",
      "Pillow                        8.3.1\n",
      "pip                           21.1.2\n",
      "prometheus-client             0.12.0\n",
      "prompt-toolkit                3.0.18\n",
      "pybtex                        0.24.0\n",
      "Note: you may need to restart the kernel to use updated packages.pybtex-docutils               1.0.1\n",
      "pycparser                     2.21\n",
      "pydata-sphinx-theme           0.6.3\n",
      "Pygments                      2.9.0\n",
      "pyOpenSSL                     21.0.0\n",
      "pyparsing                     2.4.7\n",
      "pyproj                        3.1.0\n",
      "PyQt5                         5.12.3\n",
      "PyQt5-sip                     4.19.18\n",
      "PyQtChart                     5.12\n",
      "PyQtWebEngine                 5.12.1\n",
      "pyrsistent                    0.18.0\n",
      "PySocks                       1.7.1\n",
      "python-dateutil               2.8.1\n",
      "pytz                          2021.1\n",
      "pywin32                       300\n",
      "\n",
      "pywinpty                      1.1.4\n",
      "PyYAML                        6.0\n",
      "pyzmq                         22.1.0\n",
      "qtconsole                     5.1.1\n",
      "QtPy                          1.11.2\n",
      "requests                      2.26.0\n",
      "Rtree                         0.9.7\n",
      "scipy                         1.6.3\n",
      "Send2Trash                    1.8.0\n",
      "setuptools                    49.6.0.post20210108\n",
      "Shapely                       1.7.1\n",
      "shellingham                   1.4.0\n",
      "six                           1.16.0\n",
      "smmap                         3.0.5\n",
      "sniffio                       1.2.0\n",
      "snowballstemmer               2.1.0\n",
      "soupsieve                     2.3\n",
      "Sphinx                        4.3.0\n",
      "sphinx-book-theme             0.1.6\n",
      "sphinx-comments               0.0.3\n",
      "sphinx-copybutton             0.4.0\n",
      "sphinx-external-toc           0.2.3\n",
      "sphinx-jupyterbook-latex      0.4.5\n",
      "sphinx-multitoc-numbering     0.1.3\n",
      "sphinx-panels                 0.6.0\n",
      "sphinx-thebe                  0.0.10\n",
      "sphinx-togglebutton           0.2.3\n",
      "sphinxcontrib-applehelp       1.0.2\n",
      "sphinxcontrib-bibtex          2.2.1\n",
      "sphinxcontrib-devhelp         1.0.2\n",
      "sphinxcontrib-htmlhelp        2.0.0\n",
      "sphinxcontrib-jsmath          1.0.1\n",
      "sphinxcontrib-qthelp          1.0.3\n",
      "sphinxcontrib-serializinghtml 1.1.5\n",
      "spyder-kernels                1.10.2\n",
      "SQLAlchemy                    1.4.26\n",
      "terminado                     0.12.1\n",
      "testpath                      0.5.0\n",
      "toml                          0.10.2\n",
      "tornado                       6.1\n",
      "traitlets                     5.0.5\n",
      "typing-extensions             3.10.0.2\n",
      "uc-micro-py                   1.0.1\n",
      "urllib3                       1.26.7\n",
      "wcwidth                       0.2.5\n",
      "webencodings                  0.5.1\n",
      "websocket-client              0.57.0\n",
      "wheel                         0.36.2\n",
      "widgetsnbextension            3.5.2\n",
      "win-inet-pton                 1.1.0\n",
      "wincertstore                  0.2\n",
      "zipp                          3.6.0"
     ]
    }
   ],
   "source": [
    "pip list"
   ]
  },
  {
   "cell_type": "markdown",
   "id": "9c9fe5ea",
   "metadata": {},
   "source": [
    "### Upload the modules\n",
    "\n",
    "* geopandas: used to create geodataframe and easily save the result to shapefiles or geopackages.\n",
    "* Other modules: pandas, os, glob, math, shapely, pathlib"
   ]
  },
  {
   "cell_type": "code",
   "execution_count": 2,
   "id": "2ed9ea49",
   "metadata": {},
   "outputs": [
    {
     "name": "stdout",
     "output_type": "stream",
     "text": [
      "\n"
     ]
    }
   ],
   "source": [
    "import os\n",
    "import glob\n",
    "import math\n",
    "import pandas as pd\n",
    "import geopandas as gpd\n",
    "from shapely.geometry import LineString, Point\n",
    "from pathlib import Path"
   ]
  },
  {
   "cell_type": "markdown",
   "id": "57f9eab5",
   "metadata": {},
   "source": [
    "### Initiate the different variables\n"
   ]
  },
  {
   "cell_type": "code",
   "execution_count": 3,
   "id": "a6d4ab33",
   "metadata": {},
   "outputs": [
    {
     "name": "stdout",
     "output_type": "stream",
     "text": [
      "ID: AWI_2014_GEA-IV_AIR_BM3\n"
     ]
    }
   ],
   "source": [
    "aerogeophysics_data = 'AWI_2014_GEA-IV_AIR_BM3.csv'\n",
    "ID = aerogeophysics_data.split('/')[-1].strip('.csv')\n",
    "ID_split = ID.split('_')\n",
    "print('ID: %s' %ID)"
   ]
  },
  {
   "cell_type": "markdown",
   "id": "833ffac1",
   "metadata": {},
   "source": [
    "### Open the standardised CSV files\n",
    "\n",
    "The code reads the standardised csv files using pandas. A number of columns are droped as they are not useful for the creation of the tracklines such as the line, date, time or trace."
   ]
  },
  {
   "cell_type": "code",
   "execution_count": 4,
   "id": "032f696c",
   "metadata": {},
   "outputs": [],
   "source": [
    "file = pd.read_csv(aerogeophysics_data)\n",
    "file = file.rename(columns=lambda x: x.strip()) #to remove unwanted white space in header column names\n",
    "variables = file.columns.tolist()\n",
    "line = [variable for variable in file.columns.tolist() if (variable.startswith('Line'))][0]\n",
    "date = [variable for variable in file.columns.tolist() if (variable.startswith('Date'))][0]\n",
    "time  = [variable for variable in file.columns.tolist() if (variable.startswith('Time'))][0]    \n",
    "trace = [variable for variable in file.columns.tolist() if (variable.startswith('Trace'))][0]\n",
    "file = file.drop(columns=[line, trace, date, time])\n",
    "file = file.drop(columns=variables[9:])"
   ]
  },
  {
   "cell_type": "markdown",
   "id": "4ffa88c0",
   "metadata": {},
   "source": [
    "The data are saved into a dataframe called \"file\". You can see what the dataframe looks like in the table below."
   ]
  },
  {
   "cell_type": "code",
   "execution_count": 5,
   "id": "fda37e5a",
   "metadata": {},
   "outputs": [
    {
     "data": {
      "text/html": [
       "<div>\n",
       "<style scoped>\n",
       "    .dataframe tbody tr th:only-of-type {\n",
       "        vertical-align: middle;\n",
       "    }\n",
       "\n",
       "    .dataframe tbody tr th {\n",
       "        vertical-align: top;\n",
       "    }\n",
       "\n",
       "    .dataframe thead th {\n",
       "        text-align: right;\n",
       "    }\n",
       "</style>\n",
       "<table border=\"1\" class=\"dataframe\">\n",
       "  <thead>\n",
       "    <tr style=\"text-align: right;\">\n",
       "      <th></th>\n",
       "      <th>Longitude_decimal_degrees</th>\n",
       "      <th>Latitude_decimal_degrees</th>\n",
       "      <th>Surface_elevation_WGS84_m</th>\n",
       "      <th>Ice_thickness_m</th>\n",
       "      <th>Bed_elevation_WGS84_m</th>\n",
       "    </tr>\n",
       "  </thead>\n",
       "  <tbody>\n",
       "    <tr>\n",
       "      <th>0</th>\n",
       "      <td>27.270100</td>\n",
       "      <td>-73.084496</td>\n",
       "      <td>-9999</td>\n",
       "      <td>1384.3</td>\n",
       "      <td>-9999</td>\n",
       "    </tr>\n",
       "    <tr>\n",
       "      <th>1</th>\n",
       "      <td>27.271099</td>\n",
       "      <td>-73.085701</td>\n",
       "      <td>-9999</td>\n",
       "      <td>1411.9</td>\n",
       "      <td>-9999</td>\n",
       "    </tr>\n",
       "    <tr>\n",
       "      <th>2</th>\n",
       "      <td>27.272098</td>\n",
       "      <td>-73.086800</td>\n",
       "      <td>-9999</td>\n",
       "      <td>1434.0</td>\n",
       "      <td>-9999</td>\n",
       "    </tr>\n",
       "    <tr>\n",
       "      <th>3</th>\n",
       "      <td>27.273100</td>\n",
       "      <td>-73.087997</td>\n",
       "      <td>-9999</td>\n",
       "      <td>1459.9</td>\n",
       "      <td>-9999</td>\n",
       "    </tr>\n",
       "    <tr>\n",
       "      <th>4</th>\n",
       "      <td>27.274099</td>\n",
       "      <td>-73.089096</td>\n",
       "      <td>-9999</td>\n",
       "      <td>1493.5</td>\n",
       "      <td>-9999</td>\n",
       "    </tr>\n",
       "  </tbody>\n",
       "</table>\n",
       "</div>"
      ],
      "text/plain": [
       "   Longitude_decimal_degrees  Latitude_decimal_degrees  \\\n",
       "0                  27.270100                -73.084496   \n",
       "1                  27.271099                -73.085701   \n",
       "2                  27.272098                -73.086800   \n",
       "3                  27.273100                -73.087997   \n",
       "4                  27.274099                -73.089096   \n",
       "\n",
       "   Surface_elevation_WGS84_m  Ice_thickness_m  Bed_elevation_WGS84_m  \n",
       "0                      -9999           1384.3                  -9999  \n",
       "1                      -9999           1411.9                  -9999  \n",
       "2                      -9999           1434.0                  -9999  \n",
       "3                      -9999           1459.9                  -9999  \n",
       "4                      -9999           1493.5                  -9999  "
      ]
     },
     "execution_count": 5,
     "metadata": {},
     "output_type": "execute_result"
    }
   ],
   "source": [
    "file.head()"
   ]
  },
  {
   "cell_type": "markdown",
   "id": "f7466642",
   "metadata": {},
   "source": [
    "### Saving the data as a geo-dataframe\n",
    "\n",
    "The data are then saved into a geodataframe using the `geopandas` module. This line of code will convert the latitude and longitude value into a specific point geometry.\n"
   ]
  },
  {
   "cell_type": "code",
   "execution_count": 6,
   "id": "003c91a8",
   "metadata": {},
   "outputs": [
    {
     "data": {
      "text/html": [
       "<div>\n",
       "<style scoped>\n",
       "    .dataframe tbody tr th:only-of-type {\n",
       "        vertical-align: middle;\n",
       "    }\n",
       "\n",
       "    .dataframe tbody tr th {\n",
       "        vertical-align: top;\n",
       "    }\n",
       "\n",
       "    .dataframe thead th {\n",
       "        text-align: right;\n",
       "    }\n",
       "</style>\n",
       "<table border=\"1\" class=\"dataframe\">\n",
       "  <thead>\n",
       "    <tr style=\"text-align: right;\">\n",
       "      <th></th>\n",
       "      <th>Longitude_decimal_degrees</th>\n",
       "      <th>Latitude_decimal_degrees</th>\n",
       "      <th>Surface_elevation_WGS84_m</th>\n",
       "      <th>Ice_thickness_m</th>\n",
       "      <th>Bed_elevation_WGS84_m</th>\n",
       "      <th>geometry</th>\n",
       "    </tr>\n",
       "  </thead>\n",
       "  <tbody>\n",
       "    <tr>\n",
       "      <th>0</th>\n",
       "      <td>27.270100</td>\n",
       "      <td>-73.084496</td>\n",
       "      <td>-9999</td>\n",
       "      <td>1384.3</td>\n",
       "      <td>-9999</td>\n",
       "      <td>POINT (27.27010 -73.08450)</td>\n",
       "    </tr>\n",
       "    <tr>\n",
       "      <th>1</th>\n",
       "      <td>27.271099</td>\n",
       "      <td>-73.085701</td>\n",
       "      <td>-9999</td>\n",
       "      <td>1411.9</td>\n",
       "      <td>-9999</td>\n",
       "      <td>POINT (27.27110 -73.08570)</td>\n",
       "    </tr>\n",
       "    <tr>\n",
       "      <th>2</th>\n",
       "      <td>27.272098</td>\n",
       "      <td>-73.086800</td>\n",
       "      <td>-9999</td>\n",
       "      <td>1434.0</td>\n",
       "      <td>-9999</td>\n",
       "      <td>POINT (27.27210 -73.08680)</td>\n",
       "    </tr>\n",
       "    <tr>\n",
       "      <th>3</th>\n",
       "      <td>27.273100</td>\n",
       "      <td>-73.087997</td>\n",
       "      <td>-9999</td>\n",
       "      <td>1459.9</td>\n",
       "      <td>-9999</td>\n",
       "      <td>POINT (27.27310 -73.08800)</td>\n",
       "    </tr>\n",
       "    <tr>\n",
       "      <th>4</th>\n",
       "      <td>27.274099</td>\n",
       "      <td>-73.089096</td>\n",
       "      <td>-9999</td>\n",
       "      <td>1493.5</td>\n",
       "      <td>-9999</td>\n",
       "      <td>POINT (27.27410 -73.08910)</td>\n",
       "    </tr>\n",
       "  </tbody>\n",
       "</table>\n",
       "</div>"
      ],
      "text/plain": [
       "   Longitude_decimal_degrees  Latitude_decimal_degrees  \\\n",
       "0                  27.270100                -73.084496   \n",
       "1                  27.271099                -73.085701   \n",
       "2                  27.272098                -73.086800   \n",
       "3                  27.273100                -73.087997   \n",
       "4                  27.274099                -73.089096   \n",
       "\n",
       "   Surface_elevation_WGS84_m  Ice_thickness_m  Bed_elevation_WGS84_m  \\\n",
       "0                      -9999           1384.3                  -9999   \n",
       "1                      -9999           1411.9                  -9999   \n",
       "2                      -9999           1434.0                  -9999   \n",
       "3                      -9999           1459.9                  -9999   \n",
       "4                      -9999           1493.5                  -9999   \n",
       "\n",
       "                     geometry  \n",
       "0  POINT (27.27010 -73.08450)  \n",
       "1  POINT (27.27110 -73.08570)  \n",
       "2  POINT (27.27210 -73.08680)  \n",
       "3  POINT (27.27310 -73.08800)  \n",
       "4  POINT (27.27410 -73.08910)  "
      ]
     },
     "execution_count": 6,
     "metadata": {},
     "output_type": "execute_result"
    }
   ],
   "source": [
    "gdf = gpd.GeoDataFrame(file, geometry=gpd.points_from_xy(file['Longitude_decimal_degrees'], file['Latitude_decimal_degrees']))\n",
    "\n",
    "gdf.head()"
   ]
  },
  {
   "cell_type": "markdown",
   "id": "38356376",
   "metadata": {},
   "source": [
    "#### Setting up the coordinate system\n",
    "\n",
    "The data are proposed as latitude and longitude from the WGS84  EPSG 4326 geographic system. We thus set the right coordinate system as follows:"
   ]
  },
  {
   "cell_type": "code",
   "execution_count": 7,
   "id": "78d9ff50",
   "metadata": {},
   "outputs": [],
   "source": [
    "gdf = gdf.set_crs(\"EPSG:4326\")"
   ]
  },
  {
   "cell_type": "markdown",
   "id": "c9dfeea4",
   "metadata": {},
   "source": [
    "#### Converting the data to the Antarctic Stereographic geographic system\n",
    "\n",
    "To calculate specific parameters, such as the distance between two points, we project the data to the Antarctic Stereographic EPSG 3031 system:"
   ]
  },
  {
   "cell_type": "code",
   "execution_count": 8,
   "id": "29ec1785",
   "metadata": {},
   "outputs": [],
   "source": [
    "gdf =  gdf.to_crs(\"EPSG:3031\")"
   ]
  },
  {
   "cell_type": "markdown",
   "id": "a6b0c91f",
   "metadata": {},
   "source": [
    "#### Calculating the distance between two points\n",
    "\n",
    "We then calculate the distance between two points using the geodataframe function called `distance`. This will add a specific column to our geodataframe:"
   ]
  },
  {
   "cell_type": "code",
   "execution_count": 9,
   "id": "b9ee5018",
   "metadata": {},
   "outputs": [
    {
     "data": {
      "text/html": [
       "<div>\n",
       "<style scoped>\n",
       "    .dataframe tbody tr th:only-of-type {\n",
       "        vertical-align: middle;\n",
       "    }\n",
       "\n",
       "    .dataframe tbody tr th {\n",
       "        vertical-align: top;\n",
       "    }\n",
       "\n",
       "    .dataframe thead th {\n",
       "        text-align: right;\n",
       "    }\n",
       "</style>\n",
       "<table border=\"1\" class=\"dataframe\">\n",
       "  <thead>\n",
       "    <tr style=\"text-align: right;\">\n",
       "      <th></th>\n",
       "      <th>Longitude_decimal_degrees</th>\n",
       "      <th>Latitude_decimal_degrees</th>\n",
       "      <th>Surface_elevation_WGS84_m</th>\n",
       "      <th>Ice_thickness_m</th>\n",
       "      <th>Bed_elevation_WGS84_m</th>\n",
       "      <th>geometry</th>\n",
       "      <th>distance</th>\n",
       "    </tr>\n",
       "  </thead>\n",
       "  <tbody>\n",
       "    <tr>\n",
       "      <th>0</th>\n",
       "      <td>27.270100</td>\n",
       "      <td>-73.084496</td>\n",
       "      <td>-9999</td>\n",
       "      <td>1384.3</td>\n",
       "      <td>-9999</td>\n",
       "      <td>POINT (27.27010 -73.08450)</td>\n",
       "      <td>NaN</td>\n",
       "    </tr>\n",
       "    <tr>\n",
       "      <th>1</th>\n",
       "      <td>27.271099</td>\n",
       "      <td>-73.085701</td>\n",
       "      <td>-9999</td>\n",
       "      <td>1411.9</td>\n",
       "      <td>-9999</td>\n",
       "      <td>POINT (27.27110 -73.08570)</td>\n",
       "      <td>137.544621</td>\n",
       "    </tr>\n",
       "    <tr>\n",
       "      <th>2</th>\n",
       "      <td>27.272098</td>\n",
       "      <td>-73.086800</td>\n",
       "      <td>-9999</td>\n",
       "      <td>1434.0</td>\n",
       "      <td>-9999</td>\n",
       "      <td>POINT (27.27210 -73.08680)</td>\n",
       "      <td>126.140525</td>\n",
       "    </tr>\n",
       "    <tr>\n",
       "      <th>3</th>\n",
       "      <td>27.273100</td>\n",
       "      <td>-73.087997</td>\n",
       "      <td>-9999</td>\n",
       "      <td>1459.9</td>\n",
       "      <td>-9999</td>\n",
       "      <td>POINT (27.27310 -73.08800)</td>\n",
       "      <td>136.702998</td>\n",
       "    </tr>\n",
       "    <tr>\n",
       "      <th>4</th>\n",
       "      <td>27.274099</td>\n",
       "      <td>-73.089096</td>\n",
       "      <td>-9999</td>\n",
       "      <td>1493.5</td>\n",
       "      <td>-9999</td>\n",
       "      <td>POINT (27.27410 -73.08910)</td>\n",
       "      <td>126.138714</td>\n",
       "    </tr>\n",
       "  </tbody>\n",
       "</table>\n",
       "</div>"
      ],
      "text/plain": [
       "   Longitude_decimal_degrees  Latitude_decimal_degrees  \\\n",
       "0                  27.270100                -73.084496   \n",
       "1                  27.271099                -73.085701   \n",
       "2                  27.272098                -73.086800   \n",
       "3                  27.273100                -73.087997   \n",
       "4                  27.274099                -73.089096   \n",
       "\n",
       "   Surface_elevation_WGS84_m  Ice_thickness_m  Bed_elevation_WGS84_m  \\\n",
       "0                      -9999           1384.3                  -9999   \n",
       "1                      -9999           1411.9                  -9999   \n",
       "2                      -9999           1434.0                  -9999   \n",
       "3                      -9999           1459.9                  -9999   \n",
       "4                      -9999           1493.5                  -9999   \n",
       "\n",
       "                     geometry    distance  \n",
       "0  POINT (27.27010 -73.08450)         NaN  \n",
       "1  POINT (27.27110 -73.08570)  137.544621  \n",
       "2  POINT (27.27210 -73.08680)  126.140525  \n",
       "3  POINT (27.27310 -73.08800)  136.702998  \n",
       "4  POINT (27.27410 -73.08910)  126.138714  "
      ]
     },
     "execution_count": 9,
     "metadata": {},
     "output_type": "execute_result"
    }
   ],
   "source": [
    "file['distance'] = gdf.distance(gdf.shift(1))\n",
    "file.head()"
   ]
  },
  {
   "cell_type": "markdown",
   "id": "73468162",
   "metadata": {},
   "source": [
    "## Converting the points to lines\n",
    "\n",
    "Then, we need to convert the points to line. The code will create a line between points whose distance is inferior to 15km. This is to showcase the location where data have not been recorded. We will then use the `groupby`function from geopandas to group the points together and create a line."
   ]
  },
  {
   "cell_type": "code",
   "execution_count": 10,
   "id": "981d3ef9",
   "metadata": {},
   "outputs": [
    {
     "name": "stdout",
     "output_type": "stream",
     "text": [
      "Mean distance between points: 263 m\n"
     ]
    }
   ],
   "source": [
    "segmentID = 0\n",
    "segment = []\n",
    "max_distance = 1000#min([1000, file.distance.mean()*10])\n",
    "print('Mean distance between points: %s m' %round(file.distance.mean()))\n",
    "if file.distance.mean() < 15000:\n",
    "    for index, row in file.iterrows():\n",
    "        if ID_split[0] == 'STANFORD' and row.distance <= 20000 or row.distance == 'NaN':\n",
    "            segment.append('%s_segment%s' %(ID, segmentID))\n",
    "        elif 'Recovery-Glacier' in ID_split[0:3] and row.distance <= 3000 or row.distance == 'NaN':\n",
    "            segment.append('%s_segment%s' %(ID, segmentID))\n",
    "        elif 'GEA-IV' in ID_split[0:3] and row.distance <= 3000 or row.distance == 'NaN':\n",
    "            segment.append('%s_segment%s' %(ID, segmentID))\n",
    "        elif ID_split[0] != 'STANFORD' and row.distance <= max_distance or row.distance == 'NaN':\n",
    "            segment.append('%s_segment%s' %(ID, segmentID))\n",
    "        else:\n",
    "            segmentID = segmentID +1\n",
    "            segment.append('%s_segment%s' %(ID, segmentID))\n",
    "    gdf['segment'] = segment\n",
    "    gdf = gdf.groupby(['segment'])['geometry'].apply(lambda x: LineString(x.tolist()) if x.size > 1 else x.tolist()[0])\n",
    "    gdf = gpd.GeoDataFrame(gdf, geometry='geometry')"
   ]
  },
  {
   "cell_type": "markdown",
   "id": "ba50efc4",
   "metadata": {},
   "source": [
    "#### Adding parameters and removing points"
   ]
  },
  {
   "cell_type": "code",
   "execution_count": 11,
   "id": "c1c39905",
   "metadata": {},
   "outputs": [],
   "source": [
    "    gdf['Provider'] = ID_split[0]\n",
    "    gdf['Campaign'] = ID_split[2]\n",
    "    gdf['Year'] = ID_split[1]\n",
    "    gdf = gdf.set_crs(\"EPSG:3031\")\n",
    "    gdf = gdf.reset_index()\n",
    "    for i in range(0,len(gdf)):\n",
    "        if type(gdf.geometry[i]) ==Point:\n",
    "            gdf = gdf.drop(index =i)"
   ]
  },
  {
   "cell_type": "markdown",
   "id": "a5c099f3",
   "metadata": {},
   "source": [
    "## Results\n",
    "### Plotting ice thickness"
   ]
  },
  {
   "cell_type": "code",
   "execution_count": 12,
   "id": "53a3e23a",
   "metadata": {},
   "outputs": [],
   "source": [
    "# This line configures matplotlib to show figures embedded in the notebook, \n",
    "# instead of opening a new window for each figure. More about that later. \n",
    "# If you are using an old version of IPython, try using '%pylab inline' instead.\n",
    "%matplotlib inline"
   ]
  },
  {
   "cell_type": "code",
   "execution_count": 13,
   "id": "6fce0b65",
   "metadata": {},
   "outputs": [],
   "source": [
    "import matplotlib\n",
    "import matplotlib.pyplot as plt"
   ]
  },
  {
   "cell_type": "code",
   "execution_count": 14,
   "id": "1d84d4b2",
   "metadata": {},
   "outputs": [
    {
     "data": {
      "text/plain": [
       "Text(0.5, 1.0, 'Trackline of AWI_2014_GEA-IV_AIR_BM3 survey')"
      ]
     },
     "execution_count": 14,
     "metadata": {},
     "output_type": "execute_result"
    },
    {
     "data": {
      "image/png": "[encoded data removed]",
      "text/plain": [
       "<Figure size 720x720 with 1 Axes>"
      ]
     },
     "metadata": {
      "needs_background": "light"
     },
     "output_type": "display_data"
    },
    {
     "data": {
      "text/plain": [
       "<Figure size 2000x2000 with 0 Axes>"
      ]
     },
     "metadata": {},
     "output_type": "display_data"
    }
   ],
   "source": [
    "plt.rcParams['figure.figsize'] = [10,10] # Set the size of the inline plot\n",
    "\n",
    "\n",
    "fig, ax = plt.subplots(1, 1)\n",
    "fig=plt.figure(figsize=(20,20), dpi= 100, facecolor='w', edgecolor='k')\n",
    "gdf.plot(ax=ax)\n",
    "ax.set_title('Trackline of %s survey' %ID)"
   ]
  },
  {
   "cell_type": "markdown",
   "id": "63946cf0",
   "metadata": {},
   "source": [
    "### Results\n",
    "\n",
    "All the BEDMAP lines shapefiles are available online: \n",
    " \n",
    "* BEDMAP2 shapeLines:\n",
    "* BEDMAP3 shapeLines:\n",
    "\n",
    "Please note that the lines are not available for BEDMAP1 as it was difficult to separate each survey into one campaign file."
   ]
  }
 ],
 "metadata": {
  "kernelspec": {
   "display_name": "Python 3",
   "language": "python",
   "name": "python3"
  },
  "language_info": {
   "codemirror_mode": {
    "name": "ipython",
    "version": 3
   },
   "file_extension": ".py",
   "mimetype": "text/x-python",
   "name": "python",
   "nbconvert_exporter": "python",
   "pygments_lexer": "ipython3",
   "version": "3.9.4"
  }
 },
 "nbformat": 4,
 "nbformat_minor": 5
}
