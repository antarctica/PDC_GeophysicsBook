{
 "cells": [
  {
   "cell_type": "markdown",
   "id": "68c74db6",
   "metadata": {},
   "source": [
    "# Downloading the Bedmap data\n",
    "\n",
    "This Jupyter Notebook shows how to download the Bedmap products either via Ramadda or programmatically. \n",
    "\n",
    "\n",
    "## List of data available for download\n",
    "\n",
    "The complete list of data available as part of Bedmap is available here: https://antarctica.github.io/PDC_GeophysicsBook/BEDMAP/data_available.html\n",
    "\n",
    " The Bedmap CSV files are available for download from the UK Polar data Centre:\n",
    "\n",
    "* BEDMAP1 CSV: https://doi.org/10.5285/f64815ec-4077-4432-9f55-0ce230f46029\n",
    "\n",
    "* BEDMAP2 CSV: https://doi.org/10.5285/2fd95199-365e-4da1-ae26-3b6d48b3e6ac\n",
    "\n",
    "* BEDMAP3 CSV: https://doi.org/10.5285/91523ff9-d621-46b3-87f7-ffb6efcd1847\n",
    "\n",
    "The Bedmap shapefiles/geopackages points and lines data are also available from the UK Polar Data Centre:\n",
    "\n",
    "* Bedmap1 statistically-summarised data points (shapefiles): https://doi.org/10.5285/925AC4EC-2A9D-461A-BFAA-6314EB0888C8\n",
    "\n",
    "* Bedmap2 statistically-summarised data points (shapefiles): https://doi.org/10.5285/0F90D926-99CE-43C9-B536-0C7791D1728B\n",
    "\n",
    "* Bedmap3 statistically-summarised data points (shapefiles): https://doi.org/10.5285/A72A50C6-A829-4E12-9F9A-5A683A1ACC4A\n",
    "\n",
    "\n",
    "## Downloading the data via the Ramadda interface\n",
    "\n",
    "From the metadata page accessible via the DOI, it is possible to access the data by clicking on 'GET DATA'. You will then be redirected to our Ramadda repository. \n",
    "\n",
    "From the interface, it is possible to download the data individually by clicking on the dataset you want to download. It is also possible to zip and download the data together by clickng at the top of the ramadda interface on the down arrow next to \"Polar Data Centre > DOI\" and Zip and Download Tree:\n",
    "\n",
    "![download](../images/Ramadda_download.PNG)\n",
    "\n",
    "Rammadda also allows to select the files you want to download: you will need to click on the little icon at the top left corner of the table containing the list of data to download, select the list of data you want to download and Apply the action you want from the drop down list: \n",
    "\n",
    "![download_select](../images/Ramadda_download_select.png)\n",
    "\n",
    "### /!\\ The feature to zip and download all the datasets does not work for Bedmap3 due to the size. We are working at the PDC to make this feature available again.\n",
    "\n",
    "## Downloading the data via wget command\n",
    "\n",
    "Please find below the different command to download the Bedmap datasets:\n",
    "\n",
    "* Downloading Bedmap1 CSV and shapepoints:"
   ]
  },
  {
   "cell_type": "markdown",
   "id": "1dc4abf3",
   "metadata": {},
   "source": [
    "`wget https://ramadda.data.bas.ac.uk/repository/entry/show?entryid=f64815ec-4077-4432-9f55-0ce230f46029&output=zip.tree`"
   ]
  },
  {
   "cell_type": "markdown",
   "id": "5aac1236",
   "metadata": {},
   "source": [
    "`wget https://ramadda.data.bas.ac.uk/repository/entry/show?entryid=925ac4ec-2a9d-461a-bfaa-6314eb0888c8&output=zip.tree`"
   ]
  },
  {
   "cell_type": "markdown",
   "id": "fc64a465",
   "metadata": {},
   "source": [
    "* Downloading Bedmap2 CSV and shapepoints/shapeLines:"
   ]
  },
  {
   "cell_type": "markdown",
   "id": "842214bf",
   "metadata": {},
   "source": [
    "`wget https://ramadda.data.bas.ac.uk/repository/entry/show?entryid=2fd95199-365e-4da1-ae26-3b6d48b3e6ac&output=zip.tree`"
   ]
  },
  {
   "cell_type": "markdown",
   "id": "c5c97abc",
   "metadata": {},
   "source": [
    "`wget https://ramadda.data.bas.ac.uk/repository/entry/show?entryid=0f90d926-99ce-43c9-b536-0c7791d1728b&output=zip.tree`"
   ]
  },
  {
   "cell_type": "markdown",
   "id": "a7ac01de",
   "metadata": {},
   "source": [
    "* Downloading Bedmap3 CSV and shapefiles:\n",
    "\n",
    "Due to the size of the dataset and limitations on Ramadda (that we are trying to resolve), it is not possible to download the dataset with a single URL. You will need to download the following file containing the list of files to download:  [Bedmap3_csv_list.txt](https://raw.githubusercontent.com/antarctica/PDC_GeophysicsBook/main/book/images/Bedmap3_csv_list.txt \"download\") and run:"
   ]
  },
  {
   "cell_type": "markdown",
   "id": "594ff588",
   "metadata": {},
   "source": [
    "`wget -i Bedmap3_csv_list.txt`"
   ]
  },
  {
   "cell_type": "markdown",
   "id": "bf6b5280",
   "metadata": {},
   "source": [
    "The same applies for the shapepoints and lines, you will need to download the following file: [Bedmap3_shapefiles_gpkg_list.txt](https://raw.githubusercontent.com/antarctica/PDC_GeophysicsBook/main/book/images/Bedmap3_shapefiles_gpkg_list.txt \"download\") and run:"
   ]
  },
  {
   "cell_type": "markdown",
   "id": "303af394",
   "metadata": {},
   "source": [
    "`wget -i Bedmap3_shapefiles_gpkg_list.txt`"
   ]
  }
 ],
 "metadata": {
  "kernelspec": {
   "display_name": "Python 3",
   "language": "python",
   "name": "python3"
  },
  "language_info": {
   "codemirror_mode": {
    "name": "ipython",
    "version": 3
   },
   "file_extension": ".py",
   "mimetype": "text/x-python",
   "name": "python",
   "nbconvert_exporter": "python",
   "pygments_lexer": "ipython3",
   "version": "3.9.4"
  }
 },
 "nbformat": 4,
 "nbformat_minor": 5
}
